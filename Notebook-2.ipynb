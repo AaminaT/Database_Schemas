{
    "metadata": {
        "kernelspec": {
            "name": "SQL",
            "display_name": "SQL",
            "language": "sql"
        },
        "language_info": {
            "name": "sql",
            "version": ""
        }
    },
    "nbformat_minor": 2,
    "nbformat": 4,
    "cells": [
        {
            "cell_type": "code",
            "source": [
                "Create table student(\r\n",
                "    net_id INT PRIMARY KEY,\r\n",
                "    first_name varchar(500),\r\n",
                "    last_name varchar(500),\r\n",
                "    major varchar(500),\r\n",
                "    email VARCHAR(200),\r\n",
                "    student_status varchar(10) NOT NULL check(student_status in('ACTIVE', 'INACTIVE')),\r\n",
                "    phone_number int,\r\n",
                "    year varchar(50),\r\n",
                "    course_units INT\r\n",
                ");\r\n",
                "\r\n",
                "\r\n",
                "create table course(\r\n",
                "    course_code int primary key,\r\n",
                "    course_name varchar(500),\r\n",
                "    units int,\r\n",
                "    location varchar(500),\r\n",
                "    department varchar(500),\r\n",
                "    discussion_ varchar(10) NOT NULL check(discussion_ in('YES', 'NO')),\r\n",
                "    lab_ varchar(10) NOT NULL check(lab_ in('YES', 'NO')),\r\n",
                "    professor varchar(500)\r\n",
                "\r\n",
                ");\r\n",
                "\r\n",
                "\r\n",
                "create table discussion(\r\n",
                "    course_code int primary key,\r\n",
                "    course_name varchar(500),\r\n",
                "    section int,\r\n",
                "    units int,\r\n",
                "    location varchar(500),\r\n",
                "    department varchar(500),\r\n",
                "    TA varchar(500)\r\n",
                ");\r\n",
                "\r\n",
                "\r\n",
                "create table lab(\r\n",
                "    course_code int primary key,\r\n",
                "    course_name varchar(500),\r\n",
                "    section int,\r\n",
                "    units int,\r\n",
                "    location varchar(500),\r\n",
                "    department varchar(500),\r\n",
                "    TA varchar(500)\r\n",
                ");\r\n",
                ""
            ],
            "metadata": {
                "azdata_cell_guid": "99c2eb26-968a-4752-8bd6-a681985120b7",
                "language": "sql"
            },
            "outputs": [
                {
                    "output_type": "display_data",
                    "data": {
                        "text/html": "Commands completed successfully."
                    },
                    "metadata": {}
                },
                {
                    "output_type": "display_data",
                    "data": {
                        "text/html": "Total execution time: 00:00:00.024"
                    },
                    "metadata": {}
                }
            ],
            "execution_count": 5
        },
        {
            "cell_type": "code",
            "source": [
                "Create table professor(\r\n",
                "    unique_id INT PRIMARY KEY,\r\n",
                "    first_name varchar(500),\r\n",
                "    last_name varchar(500),\r\n",
                "    department varchar(500),\r\n",
                "    department_head varchar(10) NOT NULL check(department_head in('YES', 'NO')),\r\n",
                "    email VARCHAR(200),\r\n",
                "    status varchar(10) NOT NULL check(status in('ACTIVE', 'INACTIVE')),\r\n",
                "    years_at_univeristy int,\r\n",
                "    conducts_research varchar(10) not null check(conducts_research in ('YES', 'NO'))  \r\n",
                ");"
            ],
            "metadata": {
                "azdata_cell_guid": "194edda0-70a5-49e6-8389-59d6a9a35597",
                "language": "sql"
            },
            "outputs": [
                {
                    "output_type": "display_data",
                    "data": {
                        "text/html": "Commands completed successfully."
                    },
                    "metadata": {}
                },
                {
                    "output_type": "display_data",
                    "data": {
                        "text/html": "Total execution time: 00:00:00.008"
                    },
                    "metadata": {}
                }
            ],
            "execution_count": 6
        },
        {
            "cell_type": "code",
            "source": [
                "--insert values into the table\r\n",
                "insert into student values\r\n",
                "(1, 'Claire', 'Jen', 'Computer Science','cj@uci.edu', 'ACTIVE', 123456790, 'sophomore', 16),\r\n",
                "(2, 'Faisal', 'Nawab', 'Biology','fb@uci.edu', 'INACTIVE', 123454590, 'senior', 0),\r\n",
                "(3, 'Aamina', 'Khaleel', 'Data Science','ak@uci.edu', 'ACTIVE', 167456790, 'junior', 16),\r\n",
                "(4, 'Natalie', 'Li', 'Software Engineering','nli@uci.edu', 'ACTIVE', 123986790, 'freshman', 14),\r\n",
                "(5, 'Maya', 'N', 'Data Science','mayan@uci.edu', 'ACTIVE', 1234456790, 'sophomore', 12),\r\n",
                "(6, 'Riya', 'M', 'Data Science','riyam@uci.edu', 'ACTIVE', 1236546790, 'junior', 16),\r\n",
                "(7, 'Collin', 'Yang', 'Data Science','colliny@uci.edu', 'ACTIVE', 1232346790, 'junior', 16),\r\n",
                "(8, 'Jane', 'Zhou', 'Statistics','jzhou@uci.edu', 'ACTIVE', 129856790, 'junior', 16),\r\n",
                "(9, 'Mary', 'Wong', 'Accounting','maryw@uci.edu', 'ACTIVE', 123454530, 'junior', 18),\r\n",
                "(10, 'Samira', 'Feili', 'Mechanical Engineering','samiraf@uci.edu', 'ACTIVE', 123437790, 'senior', 16)"
            ],
            "metadata": {
                "language": "sql",
                "azdata_cell_guid": "d002be91-c90c-41a6-a73f-6ec9493807cf"
            },
            "outputs": [
                {
                    "output_type": "display_data",
                    "data": {
                        "text/html": "(10 rows affected)"
                    },
                    "metadata": {}
                },
                {
                    "output_type": "display_data",
                    "data": {
                        "text/html": "Total execution time: 00:00:00.022"
                    },
                    "metadata": {}
                }
            ],
            "execution_count": 8
        },
        {
            "cell_type": "code",
            "source": [
                "insert into professor values\r\n",
                "(101, 'Mani', 'Maran', 'Information Sciences', 'YES', 'manim@uci.edu', 'ACTIVE', '10', 'YES'),\r\n",
                "(102, 'Prabha', 'Khar', 'Information Sciences', 'YES', 'prabhak@uci.edu', 'ACTIVE', '8', 'YES'),\r\n",
                "(103, 'Martin', 'Yoon', 'Biological Sciences', 'NO', 'martinym@uci.edu', 'INACTIVE', '3', 'NO'),\r\n",
                "(104, 'Maria', 'Kenney', 'School of Engineering', 'YES', 'mariak@uci.edu', 'ACTIVE', '5', 'YES'),\r\n",
                "(105, 'Wein', 'Chen', 'Information Sciences', 'NO', 'weinc@uci.edu', 'ACTIVE', '11', 'YES'),\r\n",
                "(106, 'Deepika', 'Raj', 'Biological Science', 'YES', 'deepikarm@uci.edu', 'ACTIVE', '7', 'YES'),\r\n",
                "(107, 'Claire', 'Jensen', 'Haas School of Business', 'YES', 'clairej@uci.edu', 'ACTIVE', '2', 'NO'),\r\n",
                "(108, 'Chritopher', 'Briney', 'Liberal Arts', 'YES', 'chrisb@uci.edu', 'ACTIVE', '1', 'NO')\r\n",
                ""
            ],
            "metadata": {
                "language": "sql",
                "azdata_cell_guid": "66f826c9-2a25-4a0f-b2db-14da9139b4a9"
            },
            "outputs": [
                {
                    "output_type": "display_data",
                    "data": {
                        "text/html": "(8 rows affected)"
                    },
                    "metadata": {}
                },
                {
                    "output_type": "display_data",
                    "data": {
                        "text/html": "Total execution time: 00:00:00.028"
                    },
                    "metadata": {}
                }
            ],
            "execution_count": 1
        },
        {
            "cell_type": "code",
            "source": [
                "insert into course VALUES\r\n",
                "(5873, 'Probability Statistics I', 4, 'ICS174', 'Information Sciences', 'YES', 'NO', 'Chen'),\r\n",
                "(5874, 'Probability Statistics II', 4, 'ICS174', 'Information Sciences', 'YES', 'NO', 'Chen'),\r\n",
                "(5875, 'Probability Statistics III', 4, 'ICS174', 'Information Sciences', 'YES', 'NO', 'Chen'),\r\n",
                "(2340, 'Intro to Biology', 4, 'HSLH200', 'Biological Science', 'YES', 'NO', 'Raj'),\r\n",
                "(2345, 'Intro to Biology', 4, 'BREN275', 'Biological Science', 'YES', 'NO', 'Yoon'),\r\n",
                "(2346, 'Intermediate Biology', 6, 'ISEB300', 'Biological Science', 'YES', 'YES', 'Raj'),\r\n",
                "(2350, 'Biochemistry I', 6, 'ISEB300', 'Biological Science', 'YES', 'YES', 'Raj'),\r\n",
                "(3451, 'Database Management', 4, 'HSLH100', 'Information Sciences', 'YES', 'NO', 'Maran'),\r\n",
                "(3452, 'Azure & Cloud Computing', 4, 'BREN400', 'Information Sciences', 'YES', 'YES', 'Khar'),\r\n",
                "(3453, 'Data Mining', 4, 'MGH150', 'Information Sciences', 'YES', 'NO', 'Maran'),\r\n",
                "(2476, 'PHYSICS 1A', 6, 'BREN200', 'School of Engineering', 'YES', 'YES', 'Kenney'),\r\n",
                "(2477, 'PHYSICS 1B', 6, 'BREN400', 'School of Engineering', 'YES', 'YES', 'Kenney'),\r\n",
                "(2478, 'PHYSICS 1C', 6, 'BREN600', 'School of Engineering', 'YES', 'YES', 'Kenney'),\r\n",
                "(1111, 'Drama & Theater', 4, 'SLH200', 'Liberal Arts', 'YES', 'NO', 'Briney'),\r\n",
                "(1110, 'Acting 101', 4, 'SLH202', 'Liberal Arts', 'YES', 'NO', 'Briney'),\r\n",
                "(4501, 'Economics 1A', 4, 'HAAS50', 'Haas School of Business', 'YES', 'NO', 'Jensen'),\r\n",
                "(4502, 'Economics 1B', 4, 'HAAS70', 'Haas School of Business', 'YES', 'NO', 'Jensen'),\r\n",
                "(45100, 'Startups & Innovation', 4, 'HAAS200', 'Haas School of Business', 'YES', 'NO', 'Jensen')\r\n",
                ""
            ],
            "metadata": {
                "language": "sql",
                "azdata_cell_guid": "af6d5192-bf56-48da-8b7d-6f2b993620c4"
            },
            "outputs": [
                {
                    "output_type": "display_data",
                    "data": {
                        "text/html": "(18 rows affected)"
                    },
                    "metadata": {}
                },
                {
                    "output_type": "display_data",
                    "data": {
                        "text/html": "Total execution time: 00:00:00.012"
                    },
                    "metadata": {}
                }
            ],
            "execution_count": 4
        },
        {
            "cell_type": "code",
            "source": [
                "insert into discussion VALUES\r\n",
                "(58731,'Probability Statistics I', 1, 0, 'ICS170',  'Information Sciences', 'Lee'),\r\n",
                "(58732,'Probability Statistics I', 2, 0, 'ICS172',  'Information Sciences', 'Quinn'),\r\n",
                "(58741,'Probability Statistics II', 1, 0, 'BREN200',  'Information Sciences', 'Johnson'),\r\n",
                "(58742,'Probability Statistics II', 2, 0, 'BREN202',  'Information Sciences', 'Johnson'),\r\n",
                "(58751,'Probability Statistics III', 1, 0, 'ICS270',  'Information Sciences', 'Martinez'),\r\n",
                "(58752,'Probability Statistics III', 2, 0, 'ICS272',  'Information Sciences', 'Lee'),\r\n",
                "(23401,'Intro to Biology', 1, 0, 'BIOL200',  'Biological Science', 'Rajkumar'),\r\n",
                "(23402,'Intro to Biology',2, 0, 'BIOL202',  'Biological Science', 'Malhotra'),\r\n",
                "(23403,'Intro to Biology',3, 0, 'BIOL204',  'Biological Science', 'Malhotra'),\r\n",
                "(23404,'Intro to Biology',4, 0, 'BIOL206',  'Biological Science', 'Jain'),\r\n",
                "(23461,'Intermediate Biology',1, 0, 'BIOL210',  'Biological Science', 'Manish'),\r\n",
                "(23462,'Intermediate Biology',2, 0, 'BIOL212',  'Biological Science', 'Zou'),\r\n",
                "(23463,'Intermediate Biology',3, 0, 'BIOL214',  'Biological Science', 'Xu'),\r\n",
                "(23464,'Intermediate Biology',4, 0, 'BIOL216',  'Biological Science', 'Hsu'),\r\n",
                "(23501,'Biochemistry I',1, 0, 'ISEB101',  'Biological Science', 'Khan'),\r\n",
                "(23502,'Biochemistry I',2, 0, 'ISEB101',  'Biological Science', 'Hingorami'),\r\n",
                "(34511,'Database Management',1, 0, 'BREN200',  'Information Sciences', 'Nawab'),\r\n",
                "(34512,'Database Management',2, 0, 'BREN202',  'Information Sciences', 'Khalil'),\r\n",
                "(34513,'Database Management',3, 0, 'BREN204',  'Information Sciences', 'Hoffman'),\r\n",
                "(34514,'Database Management',4, 0, 'BREN206',  'Information Sciences', 'Anand'),\r\n",
                "(34521,'Azure & Cloud Computing',1, 0, 'DBH101',  'Information Sciences', 'Sheikh'),\r\n",
                "(34522,'Azure & Cloud Computing',2, 0, 'DBH102',  'Information Sciences', 'Dmitrov'),\r\n",
                "(34523,'Azure & Cloud Computing',3, 0, 'DBH103',  'Information Sciences', 'Lancaster')\r\n",
                "\r\n",
                "\r\n",
                "--stopped here --> will work on next time"
            ],
            "metadata": {
                "language": "sql",
                "azdata_cell_guid": "241b5fe4-50db-4e38-9989-c3f3f443407d"
            },
            "outputs": [
                {
                    "output_type": "display_data",
                    "data": {
                        "text/html": "(23 rows affected)"
                    },
                    "metadata": {}
                },
                {
                    "output_type": "display_data",
                    "data": {
                        "text/html": "Total execution time: 00:00:00.032"
                    },
                    "metadata": {}
                }
            ],
            "execution_count": 6
        },
        {
            "cell_type": "code",
            "source": [
                "insert into discussion VALUES\r\n",
                "(34531,'Data Mining',1, 0, 'SLH150',  'Information Sciences', 'James'),\r\n",
                "(34532,'Data Mining',2, 0, 'LSH200',  'Information Sciences', 'Qi'),\r\n",
                "(24761,'PHYSICS 1A',1, 0, 'LSH202',  'School of Engineering', 'Lei'),\r\n",
                "(24762,'PHYSICS 1A',2, 0, 'LSH212',  'School of Engineering', 'Zhang'),\r\n",
                "(24763,'PHYSICS 1A',3, 0, 'DBH120',  'School of Engineering', 'Tang'),\r\n",
                "(24771,'PHYSICS 1B',1, 0, 'SLH550',  'School of Engineering', 'Jim'),\r\n",
                "(24772,'PHYSICS 1B',2, 0, 'SLH560',  'School of Engineering', 'Weng'),\r\n",
                "(24773,'PHYSICS 1B',3, 0, 'SLH570',  'School of Engineering', 'Ibrahim'),\r\n",
                "(24781,'PHYSICS 1C',1, 0, 'MGH100',  'School of Engineering', 'Ibrahim'),\r\n",
                "(24782,'PHYSICS 1C',2, 0, 'MGH110',  'School of Engineering', 'Nawab'),\r\n",
                "(24783,'PHYSICS 1C',3, 0, 'MGH112',  'School of Engineering', 'Hsu'),\r\n",
                "(11111,'Drama & Theater',1, 0, 'THH140',  'Liberal Arts', 'Annenberg'),\r\n",
                "(11112,'Drama & Theater',2, 0, 'THH150',  'Liberal Arts', 'Annenberg'),\r\n",
                "(11101,'Acting 101',1, 0, 'BUSN250',  'Liberal Arts', 'Claremont'),\r\n",
                "(11102,'Acting 101',2, 0, 'BUSN255',  'Liberal Arts', 'McKormick'),\r\n",
                "(45011,'Economics 1A',1, 0, 'ELH200',  'Haas School of Business', 'Jensen'),\r\n",
                "(45012,'Economics 1A',2, 0, 'ELH203',  'Haas School of Business', 'Jensen'),\r\n",
                "(45013,'Economics 1A',3, 0, 'ELH200',  'Haas School of Business', 'Kenny'),\r\n",
                "(45014,'Economics 1A',4, 0, 'ELH200',  'Haas School of Business', 'Kenny'),\r\n",
                "(45021,'Economics 1B',1, 0, 'BUSIN500',  'Haas School of Business', 'Lauren'),\r\n",
                "(45022,'Economics 1B',2, 0, 'BUSIN500',  'Haas School of Business', 'Hoffman'),\r\n",
                "(45023,'Economics 1B',3, 0, 'BUSIN510',  'Haas School of Business', 'Hoffman'),\r\n",
                "(45024,'Economics 1B',4, 0, 'BUSIN515',  'Haas School of Business', 'Abelman'),\r\n",
                "(451001,'Startups & Innovation',1, 0, 'HAAS100',  'Haas School of Business', 'Friedman'),\r\n",
                "(451002,'Startups & Innovation',2, 0, 'HAAS100',  'Haas School of Business', 'Friedman'),\r\n",
                "(451003,'Startups & Innovation',3, 0, 'HAAS100',  'Haas School of Business', 'Goldberg')"
            ],
            "metadata": {
                "language": "sql",
                "azdata_cell_guid": "4b1fd8be-87a3-45a8-a285-a692ef86a377"
            },
            "outputs": [
                {
                    "output_type": "display_data",
                    "data": {
                        "text/html": "(26 rows affected)"
                    },
                    "metadata": {}
                },
                {
                    "output_type": "display_data",
                    "data": {
                        "text/html": "Total execution time: 00:00:00.017"
                    },
                    "metadata": {}
                }
            ],
            "execution_count": 3
        },
        {
            "cell_type": "code",
            "source": [
                "insert into lab values\r\n",
                "(234600,'Intermediate Biology', 1, 2,'ISEB200', 'Biological Science', 'Quinn'),\r\n",
                "(234601,'Intermediate Biology', 2, 2,'ISEB200', 'Biological Science', 'Jefferson'),\r\n",
                "(234602,'Intermediate Biology', 3, 2,'ISEB210', 'Biological Science', 'Quinn'),\r\n",
                "(235000,'Biochemistry I', 1, 2,'BIOL270', 'Biological Science', 'Jenn'),\r\n",
                "(235001,'Biochemistry I',2, 2,'BIOL270', 'Biological Science', 'Jenn'),\r\n",
                "(247600,'PHYSICS 1A', 1, 2,'ISEB500', 'School of Engineering', 'Jensen'),\r\n",
                "(247601,'PHYSICS 1A', 2, 2,'ISEB510', 'School of Engineering', 'Jensen'),\r\n",
                "(2477010,'PHYSICS 1B', 1, 2,'ISEB515', 'School of Engineering', 'Rao'),\r\n",
                "(2477011,'PHYSICS 1B', 2, 2,'ISEB520', 'School of Engineering', 'Rao'),\r\n",
                "(2478010,'PHYSICS 1C', 1, 2,'MGH2000', 'School of Engineering', 'Kumar'),\r\n",
                "(2478011,'PHYSICS 1C', 2, 2,'MGH2001', 'School of Engineering', 'Kumar'),\r\n",
                "(345200,'Azure & Cloud Computing', 1, 0,'SH170', 'Information Sciences', 'Hassan'),\r\n",
                "(345201,'Azure & Cloud Computing', 2, 0,'SH177', 'Information Sciences', 'Hassan'),\r\n",
                "(345202,'Azure & Cloud Computing', 3, 0,'SH177', 'Information Sciences', 'Kane')\r\n",
                ""
            ],
            "metadata": {
                "language": "sql",
                "azdata_cell_guid": "61827b09-c503-429a-b9be-450c54b634b6"
            },
            "outputs": [
                {
                    "output_type": "display_data",
                    "data": {
                        "text/html": "(14 rows affected)"
                    },
                    "metadata": {}
                },
                {
                    "output_type": "display_data",
                    "data": {
                        "text/html": "Total execution time: 00:00:00.010"
                    },
                    "metadata": {}
                }
            ],
            "execution_count": 8
        },
        {
            "cell_type": "code",
            "source": [
                "select *  from lab"
            ],
            "metadata": {
                "language": "sql",
                "azdata_cell_guid": "0dee90a1-448f-46c7-a4b9-b1811cd12d5e"
            },
            "outputs": [
                {
                    "output_type": "display_data",
                    "data": {
                        "text/html": "(14 rows affected)"
                    },
                    "metadata": {}
                },
                {
                    "output_type": "display_data",
                    "data": {
                        "text/html": "Total execution time: 00:00:00.070"
                    },
                    "metadata": {}
                },
                {
                    "output_type": "execute_result",
                    "metadata": {},
                    "execution_count": 9,
                    "data": {
                        "application/vnd.dataresource+json": {
                            "schema": {
                                "fields": [
                                    {
                                        "name": "course_code"
                                    },
                                    {
                                        "name": "course_name"
                                    },
                                    {
                                        "name": "section"
                                    },
                                    {
                                        "name": "units"
                                    },
                                    {
                                        "name": "location"
                                    },
                                    {
                                        "name": "department"
                                    },
                                    {
                                        "name": "TA"
                                    }
                                ]
                            },
                            "data": [
                                {
                                    "course_code": "234600",
                                    "course_name": "Intermediate Biology",
                                    "section": "1",
                                    "units": "2",
                                    "location": "ISEB200",
                                    "department": "Biological Science",
                                    "TA": "Quinn"
                                },
                                {
                                    "course_code": "234601",
                                    "course_name": "Intermediate Biology",
                                    "section": "2",
                                    "units": "2",
                                    "location": "ISEB200",
                                    "department": "Biological Science",
                                    "TA": "Jefferson"
                                },
                                {
                                    "course_code": "234602",
                                    "course_name": "Intermediate Biology",
                                    "section": "3",
                                    "units": "2",
                                    "location": "ISEB210",
                                    "department": "Biological Science",
                                    "TA": "Quinn"
                                },
                                {
                                    "course_code": "235000",
                                    "course_name": "Biochemistry I",
                                    "section": "1",
                                    "units": "2",
                                    "location": "BIOL270",
                                    "department": "Biological Science",
                                    "TA": "Jenn"
                                },
                                {
                                    "course_code": "235001",
                                    "course_name": "Biochemistry I",
                                    "section": "2",
                                    "units": "2",
                                    "location": "BIOL270",
                                    "department": "Biological Science",
                                    "TA": "Jenn"
                                },
                                {
                                    "course_code": "247600",
                                    "course_name": "PHYSICS 1A",
                                    "section": "1",
                                    "units": "2",
                                    "location": "ISEB500",
                                    "department": "School of Engineering",
                                    "TA": "Jensen"
                                },
                                {
                                    "course_code": "247601",
                                    "course_name": "PHYSICS 1A",
                                    "section": "2",
                                    "units": "2",
                                    "location": "ISEB510",
                                    "department": "School of Engineering",
                                    "TA": "Jensen"
                                },
                                {
                                    "course_code": "345200",
                                    "course_name": "Azure & Cloud Computing",
                                    "section": "1",
                                    "units": "0",
                                    "location": "SH170",
                                    "department": "Information Sciences",
                                    "TA": "Hassan"
                                },
                                {
                                    "course_code": "345201",
                                    "course_name": "Azure & Cloud Computing",
                                    "section": "2",
                                    "units": "0",
                                    "location": "SH177",
                                    "department": "Information Sciences",
                                    "TA": "Hassan"
                                },
                                {
                                    "course_code": "345202",
                                    "course_name": "Azure & Cloud Computing",
                                    "section": "3",
                                    "units": "0",
                                    "location": "SH177",
                                    "department": "Information Sciences",
                                    "TA": "Kane"
                                },
                                {
                                    "course_code": "2477010",
                                    "course_name": "PHYSICS 1B",
                                    "section": "1",
                                    "units": "2",
                                    "location": "ISEB515",
                                    "department": "School of Engineering",
                                    "TA": "Rao"
                                },
                                {
                                    "course_code": "2477011",
                                    "course_name": "PHYSICS 1B",
                                    "section": "2",
                                    "units": "2",
                                    "location": "ISEB520",
                                    "department": "School of Engineering",
                                    "TA": "Rao"
                                },
                                {
                                    "course_code": "2478010",
                                    "course_name": "PHYSICS 1C",
                                    "section": "1",
                                    "units": "2",
                                    "location": "MGH2000",
                                    "department": "School of Engineering",
                                    "TA": "Kumar"
                                },
                                {
                                    "course_code": "2478011",
                                    "course_name": "PHYSICS 1C",
                                    "section": "2",
                                    "units": "2",
                                    "location": "MGH2001",
                                    "department": "School of Engineering",
                                    "TA": "Kumar"
                                }
                            ]
                        },
                        "text/html": [
                            "<table>",
                            "<tr><th>course_code</th><th>course_name</th><th>section</th><th>units</th><th>location</th><th>department</th><th>TA</th></tr>",
                            "<tr><td>234600</td><td>Intermediate Biology</td><td>1</td><td>2</td><td>ISEB200</td><td>Biological Science</td><td>Quinn</td></tr>",
                            "<tr><td>234601</td><td>Intermediate Biology</td><td>2</td><td>2</td><td>ISEB200</td><td>Biological Science</td><td>Jefferson</td></tr>",
                            "<tr><td>234602</td><td>Intermediate Biology</td><td>3</td><td>2</td><td>ISEB210</td><td>Biological Science</td><td>Quinn</td></tr>",
                            "<tr><td>235000</td><td>Biochemistry I</td><td>1</td><td>2</td><td>BIOL270</td><td>Biological Science</td><td>Jenn</td></tr>",
                            "<tr><td>235001</td><td>Biochemistry I</td><td>2</td><td>2</td><td>BIOL270</td><td>Biological Science</td><td>Jenn</td></tr>",
                            "<tr><td>247600</td><td>PHYSICS 1A</td><td>1</td><td>2</td><td>ISEB500</td><td>School of Engineering</td><td>Jensen</td></tr>",
                            "<tr><td>247601</td><td>PHYSICS 1A</td><td>2</td><td>2</td><td>ISEB510</td><td>School of Engineering</td><td>Jensen</td></tr>",
                            "<tr><td>345200</td><td>Azure &amp; Cloud Computing</td><td>1</td><td>0</td><td>SH170</td><td>Information Sciences</td><td>Hassan</td></tr>",
                            "<tr><td>345201</td><td>Azure &amp; Cloud Computing</td><td>2</td><td>0</td><td>SH177</td><td>Information Sciences</td><td>Hassan</td></tr>",
                            "<tr><td>345202</td><td>Azure &amp; Cloud Computing</td><td>3</td><td>0</td><td>SH177</td><td>Information Sciences</td><td>Kane</td></tr>",
                            "<tr><td>2477010</td><td>PHYSICS 1B</td><td>1</td><td>2</td><td>ISEB515</td><td>School of Engineering</td><td>Rao</td></tr>",
                            "<tr><td>2477011</td><td>PHYSICS 1B</td><td>2</td><td>2</td><td>ISEB520</td><td>School of Engineering</td><td>Rao</td></tr>",
                            "<tr><td>2478010</td><td>PHYSICS 1C</td><td>1</td><td>2</td><td>MGH2000</td><td>School of Engineering</td><td>Kumar</td></tr>",
                            "<tr><td>2478011</td><td>PHYSICS 1C</td><td>2</td><td>2</td><td>MGH2001</td><td>School of Engineering</td><td>Kumar</td></tr>",
                            "</table>"
                        ]
                    }
                }
            ],
            "execution_count": 9
        },
        {
            "cell_type": "code",
            "source": [
                "select * from student where student_status= 'ACTIVE' AND major = 'Data Science'"
            ],
            "metadata": {
                "language": "sql",
                "azdata_cell_guid": "b8505701-0031-4f3d-8cf4-53b1065a5d9b"
            },
            "outputs": [
                {
                    "output_type": "display_data",
                    "data": {
                        "text/html": "(4 rows affected)"
                    },
                    "metadata": {}
                },
                {
                    "output_type": "display_data",
                    "data": {
                        "text/html": "Total execution time: 00:00:00.020"
                    },
                    "metadata": {}
                },
                {
                    "output_type": "execute_result",
                    "metadata": {},
                    "execution_count": 12,
                    "data": {
                        "application/vnd.dataresource+json": {
                            "schema": {
                                "fields": [
                                    {
                                        "name": "net_id"
                                    },
                                    {
                                        "name": "first_name"
                                    },
                                    {
                                        "name": "last_name"
                                    },
                                    {
                                        "name": "major"
                                    },
                                    {
                                        "name": "email"
                                    },
                                    {
                                        "name": "student_status"
                                    },
                                    {
                                        "name": "phone_number"
                                    },
                                    {
                                        "name": "year"
                                    },
                                    {
                                        "name": "course_units"
                                    }
                                ]
                            },
                            "data": [
                                {
                                    "net_id": "3",
                                    "first_name": "Aamina",
                                    "last_name": "Khaleel",
                                    "major": "Data Science",
                                    "email": "ak@uci.edu",
                                    "student_status": "ACTIVE",
                                    "phone_number": "167456790",
                                    "year": "junior",
                                    "course_units": "16"
                                },
                                {
                                    "net_id": "5",
                                    "first_name": "Maya",
                                    "last_name": "N",
                                    "major": "Data Science",
                                    "email": "mayan@uci.edu",
                                    "student_status": "ACTIVE",
                                    "phone_number": "1234456790",
                                    "year": "sophomore",
                                    "course_units": "12"
                                },
                                {
                                    "net_id": "6",
                                    "first_name": "Riya",
                                    "last_name": "M",
                                    "major": "Data Science",
                                    "email": "riyam@uci.edu",
                                    "student_status": "ACTIVE",
                                    "phone_number": "1236546790",
                                    "year": "junior",
                                    "course_units": "16"
                                },
                                {
                                    "net_id": "7",
                                    "first_name": "Collin",
                                    "last_name": "Yang",
                                    "major": "Data Science",
                                    "email": "colliny@uci.edu",
                                    "student_status": "ACTIVE",
                                    "phone_number": "1232346790",
                                    "year": "junior",
                                    "course_units": "16"
                                }
                            ]
                        },
                        "text/html": [
                            "<table>",
                            "<tr><th>net_id</th><th>first_name</th><th>last_name</th><th>major</th><th>email</th><th>student_status</th><th>phone_number</th><th>year</th><th>course_units</th></tr>",
                            "<tr><td>3</td><td>Aamina</td><td>Khaleel</td><td>Data Science</td><td>ak@uci.edu</td><td>ACTIVE</td><td>167456790</td><td>junior</td><td>16</td></tr>",
                            "<tr><td>5</td><td>Maya</td><td>N</td><td>Data Science</td><td>mayan@uci.edu</td><td>ACTIVE</td><td>1234456790</td><td>sophomore</td><td>12</td></tr>",
                            "<tr><td>6</td><td>Riya</td><td>M</td><td>Data Science</td><td>riyam@uci.edu</td><td>ACTIVE</td><td>1236546790</td><td>junior</td><td>16</td></tr>",
                            "<tr><td>7</td><td>Collin</td><td>Yang</td><td>Data Science</td><td>colliny@uci.edu</td><td>ACTIVE</td><td>1232346790</td><td>junior</td><td>16</td></tr>",
                            "</table>"
                        ]
                    }
                }
            ],
            "execution_count": 12
        },
        {
            "cell_type": "code",
            "source": [
                "select * from professor\r\n",
                "select * from course\r\n",
                "select * from discussion\r\n",
                "select * from lab"
            ],
            "metadata": {
                "language": "sql",
                "azdata_cell_guid": "a26fb532-cdbb-4237-9402-557acc23d16f"
            },
            "outputs": [
                {
                    "output_type": "display_data",
                    "data": {
                        "text/html": "(8 rows affected)"
                    },
                    "metadata": {}
                },
                {
                    "output_type": "display_data",
                    "data": {
                        "text/html": "(18 rows affected)"
                    },
                    "metadata": {}
                },
                {
                    "output_type": "display_data",
                    "data": {
                        "text/html": "(49 rows affected)"
                    },
                    "metadata": {}
                },
                {
                    "output_type": "display_data",
                    "data": {
                        "text/html": "(14 rows affected)"
                    },
                    "metadata": {}
                },
                {
                    "output_type": "display_data",
                    "data": {
                        "text/html": "Total execution time: 00:00:00.038"
                    },
                    "metadata": {}
                },
                {
                    "output_type": "execute_result",
                    "metadata": {},
                    "execution_count": 13,
                    "data": {
                        "application/vnd.dataresource+json": {
                            "schema": {
                                "fields": [
                                    {
                                        "name": "unique_id"
                                    },
                                    {
                                        "name": "first_name"
                                    },
                                    {
                                        "name": "last_name"
                                    },
                                    {
                                        "name": "department"
                                    },
                                    {
                                        "name": "department_head"
                                    },
                                    {
                                        "name": "email"
                                    },
                                    {
                                        "name": "status"
                                    },
                                    {
                                        "name": "years_at_univeristy"
                                    },
                                    {
                                        "name": "conducts_research"
                                    }
                                ]
                            },
                            "data": [
                                {
                                    "unique_id": "101",
                                    "first_name": "Mani",
                                    "last_name": "Maran",
                                    "department": "Information Sciences",
                                    "department_head": "YES",
                                    "email": "manim@uci.edu",
                                    "status": "ACTIVE",
                                    "years_at_univeristy": "10",
                                    "conducts_research": "YES"
                                },
                                {
                                    "unique_id": "102",
                                    "first_name": "Prabha",
                                    "last_name": "Khar",
                                    "department": "Information Sciences",
                                    "department_head": "YES",
                                    "email": "prabhak@uci.edu",
                                    "status": "ACTIVE",
                                    "years_at_univeristy": "8",
                                    "conducts_research": "YES"
                                },
                                {
                                    "unique_id": "103",
                                    "first_name": "Martin",
                                    "last_name": "Yoon",
                                    "department": "Biological Sciences",
                                    "department_head": "NO",
                                    "email": "martinym@uci.edu",
                                    "status": "INACTIVE",
                                    "years_at_univeristy": "3",
                                    "conducts_research": "NO"
                                },
                                {
                                    "unique_id": "104",
                                    "first_name": "Maria",
                                    "last_name": "Kenney",
                                    "department": "School of Engineering",
                                    "department_head": "YES",
                                    "email": "mariak@uci.edu",
                                    "status": "ACTIVE",
                                    "years_at_univeristy": "5",
                                    "conducts_research": "YES"
                                },
                                {
                                    "unique_id": "105",
                                    "first_name": "Wein",
                                    "last_name": "Chen",
                                    "department": "Information Sciences",
                                    "department_head": "NO",
                                    "email": "weinc@uci.edu",
                                    "status": "ACTIVE",
                                    "years_at_univeristy": "11",
                                    "conducts_research": "YES"
                                },
                                {
                                    "unique_id": "106",
                                    "first_name": "Deepika",
                                    "last_name": "Raj",
                                    "department": "Biological Science",
                                    "department_head": "YES",
                                    "email": "deepikarm@uci.edu",
                                    "status": "ACTIVE",
                                    "years_at_univeristy": "7",
                                    "conducts_research": "YES"
                                },
                                {
                                    "unique_id": "107",
                                    "first_name": "Claire",
                                    "last_name": "Jensen",
                                    "department": "Haas School of Business",
                                    "department_head": "YES",
                                    "email": "clairej@uci.edu",
                                    "status": "ACTIVE",
                                    "years_at_univeristy": "2",
                                    "conducts_research": "NO"
                                },
                                {
                                    "unique_id": "108",
                                    "first_name": "Chritopher",
                                    "last_name": "Briney",
                                    "department": "Liberal Arts",
                                    "department_head": "YES",
                                    "email": "chrisb@uci.edu",
                                    "status": "ACTIVE",
                                    "years_at_univeristy": "1",
                                    "conducts_research": "NO"
                                }
                            ]
                        },
                        "text/html": [
                            "<table>",
                            "<tr><th>unique_id</th><th>first_name</th><th>last_name</th><th>department</th><th>department_head</th><th>email</th><th>status</th><th>years_at_univeristy</th><th>conducts_research</th></tr>",
                            "<tr><td>101</td><td>Mani</td><td>Maran</td><td>Information Sciences</td><td>YES</td><td>manim@uci.edu</td><td>ACTIVE</td><td>10</td><td>YES</td></tr>",
                            "<tr><td>102</td><td>Prabha</td><td>Khar</td><td>Information Sciences</td><td>YES</td><td>prabhak@uci.edu</td><td>ACTIVE</td><td>8</td><td>YES</td></tr>",
                            "<tr><td>103</td><td>Martin</td><td>Yoon</td><td>Biological Sciences</td><td>NO</td><td>martinym@uci.edu</td><td>INACTIVE</td><td>3</td><td>NO</td></tr>",
                            "<tr><td>104</td><td>Maria</td><td>Kenney</td><td>School of Engineering</td><td>YES</td><td>mariak@uci.edu</td><td>ACTIVE</td><td>5</td><td>YES</td></tr>",
                            "<tr><td>105</td><td>Wein</td><td>Chen</td><td>Information Sciences</td><td>NO</td><td>weinc@uci.edu</td><td>ACTIVE</td><td>11</td><td>YES</td></tr>",
                            "<tr><td>106</td><td>Deepika</td><td>Raj</td><td>Biological Science</td><td>YES</td><td>deepikarm@uci.edu</td><td>ACTIVE</td><td>7</td><td>YES</td></tr>",
                            "<tr><td>107</td><td>Claire</td><td>Jensen</td><td>Haas School of Business</td><td>YES</td><td>clairej@uci.edu</td><td>ACTIVE</td><td>2</td><td>NO</td></tr>",
                            "<tr><td>108</td><td>Chritopher</td><td>Briney</td><td>Liberal Arts</td><td>YES</td><td>chrisb@uci.edu</td><td>ACTIVE</td><td>1</td><td>NO</td></tr>",
                            "</table>"
                        ]
                    }
                },
                {
                    "output_type": "execute_result",
                    "metadata": {},
                    "execution_count": 13,
                    "data": {
                        "application/vnd.dataresource+json": {
                            "schema": {
                                "fields": [
                                    {
                                        "name": "course_code"
                                    },
                                    {
                                        "name": "course_name"
                                    },
                                    {
                                        "name": "units"
                                    },
                                    {
                                        "name": "location"
                                    },
                                    {
                                        "name": "department"
                                    },
                                    {
                                        "name": "discussion_"
                                    },
                                    {
                                        "name": "lab_"
                                    },
                                    {
                                        "name": "professor"
                                    }
                                ]
                            },
                            "data": [
                                {
                                    "course_code": "1110",
                                    "course_name": "Acting 101",
                                    "units": "4",
                                    "location": "SLH202",
                                    "department": "Liberal Arts",
                                    "discussion_": "YES",
                                    "lab_": "NO",
                                    "professor": "Briney"
                                },
                                {
                                    "course_code": "1111",
                                    "course_name": "Drama & Theater",
                                    "units": "4",
                                    "location": "SLH200",
                                    "department": "Liberal Arts",
                                    "discussion_": "YES",
                                    "lab_": "NO",
                                    "professor": "Briney"
                                },
                                {
                                    "course_code": "2340",
                                    "course_name": "Intro to Biology",
                                    "units": "4",
                                    "location": "HSLH200",
                                    "department": "Biological Science",
                                    "discussion_": "YES",
                                    "lab_": "NO",
                                    "professor": "Raj"
                                },
                                {
                                    "course_code": "2345",
                                    "course_name": "Intro to Biology",
                                    "units": "4",
                                    "location": "BREN275",
                                    "department": "Biological Science",
                                    "discussion_": "YES",
                                    "lab_": "NO",
                                    "professor": "Yoon"
                                },
                                {
                                    "course_code": "2346",
                                    "course_name": "Intermediate Biology",
                                    "units": "6",
                                    "location": "ISEB300",
                                    "department": "Biological Science",
                                    "discussion_": "YES",
                                    "lab_": "YES",
                                    "professor": "Raj"
                                },
                                {
                                    "course_code": "2350",
                                    "course_name": "Biochemistry I",
                                    "units": "6",
                                    "location": "ISEB300",
                                    "department": "Biological Science",
                                    "discussion_": "YES",
                                    "lab_": "YES",
                                    "professor": "Raj"
                                },
                                {
                                    "course_code": "2476",
                                    "course_name": "PHYSICS 1A",
                                    "units": "6",
                                    "location": "BREN200",
                                    "department": "School of Engineering",
                                    "discussion_": "YES",
                                    "lab_": "YES",
                                    "professor": "Kenney"
                                },
                                {
                                    "course_code": "2477",
                                    "course_name": "PHYSICS 1B",
                                    "units": "6",
                                    "location": "BREN400",
                                    "department": "School of Engineering",
                                    "discussion_": "YES",
                                    "lab_": "YES",
                                    "professor": "Kenney"
                                },
                                {
                                    "course_code": "2478",
                                    "course_name": "PHYSICS 1C",
                                    "units": "6",
                                    "location": "BREN600",
                                    "department": "School of Engineering",
                                    "discussion_": "YES",
                                    "lab_": "YES",
                                    "professor": "Kenney"
                                },
                                {
                                    "course_code": "3451",
                                    "course_name": "Database Management",
                                    "units": "4",
                                    "location": "HSLH100",
                                    "department": "Information Sciences",
                                    "discussion_": "YES",
                                    "lab_": "NO",
                                    "professor": "Maran"
                                },
                                {
                                    "course_code": "3452",
                                    "course_name": "Azure & Cloud Computing",
                                    "units": "4",
                                    "location": "BREN400",
                                    "department": "Information Sciences",
                                    "discussion_": "YES",
                                    "lab_": "YES",
                                    "professor": "Khar"
                                },
                                {
                                    "course_code": "3453",
                                    "course_name": "Data Mining",
                                    "units": "4",
                                    "location": "MGH150",
                                    "department": "Information Sciences",
                                    "discussion_": "YES",
                                    "lab_": "NO",
                                    "professor": "Maran"
                                },
                                {
                                    "course_code": "4501",
                                    "course_name": "Economics 1A",
                                    "units": "4",
                                    "location": "HAAS50",
                                    "department": "Haas School of Business",
                                    "discussion_": "YES",
                                    "lab_": "NO",
                                    "professor": "Jensen"
                                },
                                {
                                    "course_code": "4502",
                                    "course_name": "Economics 1B",
                                    "units": "4",
                                    "location": "HAAS70",
                                    "department": "Haas School of Business",
                                    "discussion_": "YES",
                                    "lab_": "NO",
                                    "professor": "Jensen"
                                },
                                {
                                    "course_code": "5873",
                                    "course_name": "Probability Statistics I",
                                    "units": "4",
                                    "location": "ICS174",
                                    "department": "Information Sciences",
                                    "discussion_": "YES",
                                    "lab_": "NO",
                                    "professor": "Chen"
                                },
                                {
                                    "course_code": "5874",
                                    "course_name": "Probability Statistics II",
                                    "units": "4",
                                    "location": "ICS174",
                                    "department": "Information Sciences",
                                    "discussion_": "YES",
                                    "lab_": "NO",
                                    "professor": "Chen"
                                },
                                {
                                    "course_code": "5875",
                                    "course_name": "Probability Statistics III",
                                    "units": "4",
                                    "location": "ICS174",
                                    "department": "Information Sciences",
                                    "discussion_": "YES",
                                    "lab_": "NO",
                                    "professor": "Chen"
                                },
                                {
                                    "course_code": "45100",
                                    "course_name": "Startups & Innovation",
                                    "units": "4",
                                    "location": "HAAS200",
                                    "department": "Haas School of Business",
                                    "discussion_": "YES",
                                    "lab_": "NO",
                                    "professor": "Jensen"
                                }
                            ]
                        },
                        "text/html": [
                            "<table>",
                            "<tr><th>course_code</th><th>course_name</th><th>units</th><th>location</th><th>department</th><th>discussion_</th><th>lab_</th><th>professor</th></tr>",
                            "<tr><td>1110</td><td>Acting 101</td><td>4</td><td>SLH202</td><td>Liberal Arts</td><td>YES</td><td>NO</td><td>Briney</td></tr>",
                            "<tr><td>1111</td><td>Drama &amp; Theater</td><td>4</td><td>SLH200</td><td>Liberal Arts</td><td>YES</td><td>NO</td><td>Briney</td></tr>",
                            "<tr><td>2340</td><td>Intro to Biology</td><td>4</td><td>HSLH200</td><td>Biological Science</td><td>YES</td><td>NO</td><td>Raj</td></tr>",
                            "<tr><td>2345</td><td>Intro to Biology</td><td>4</td><td>BREN275</td><td>Biological Science</td><td>YES</td><td>NO</td><td>Yoon</td></tr>",
                            "<tr><td>2346</td><td>Intermediate Biology</td><td>6</td><td>ISEB300</td><td>Biological Science</td><td>YES</td><td>YES</td><td>Raj</td></tr>",
                            "<tr><td>2350</td><td>Biochemistry I</td><td>6</td><td>ISEB300</td><td>Biological Science</td><td>YES</td><td>YES</td><td>Raj</td></tr>",
                            "<tr><td>2476</td><td>PHYSICS 1A</td><td>6</td><td>BREN200</td><td>School of Engineering</td><td>YES</td><td>YES</td><td>Kenney</td></tr>",
                            "<tr><td>2477</td><td>PHYSICS 1B</td><td>6</td><td>BREN400</td><td>School of Engineering</td><td>YES</td><td>YES</td><td>Kenney</td></tr>",
                            "<tr><td>2478</td><td>PHYSICS 1C</td><td>6</td><td>BREN600</td><td>School of Engineering</td><td>YES</td><td>YES</td><td>Kenney</td></tr>",
                            "<tr><td>3451</td><td>Database Management</td><td>4</td><td>HSLH100</td><td>Information Sciences</td><td>YES</td><td>NO</td><td>Maran</td></tr>",
                            "<tr><td>3452</td><td>Azure &amp; Cloud Computing</td><td>4</td><td>BREN400</td><td>Information Sciences</td><td>YES</td><td>YES</td><td>Khar</td></tr>",
                            "<tr><td>3453</td><td>Data Mining</td><td>4</td><td>MGH150</td><td>Information Sciences</td><td>YES</td><td>NO</td><td>Maran</td></tr>",
                            "<tr><td>4501</td><td>Economics 1A</td><td>4</td><td>HAAS50</td><td>Haas School of Business</td><td>YES</td><td>NO</td><td>Jensen</td></tr>",
                            "<tr><td>4502</td><td>Economics 1B</td><td>4</td><td>HAAS70</td><td>Haas School of Business</td><td>YES</td><td>NO</td><td>Jensen</td></tr>",
                            "<tr><td>5873</td><td>Probability Statistics I</td><td>4</td><td>ICS174</td><td>Information Sciences</td><td>YES</td><td>NO</td><td>Chen</td></tr>",
                            "<tr><td>5874</td><td>Probability Statistics II</td><td>4</td><td>ICS174</td><td>Information Sciences</td><td>YES</td><td>NO</td><td>Chen</td></tr>",
                            "<tr><td>5875</td><td>Probability Statistics III</td><td>4</td><td>ICS174</td><td>Information Sciences</td><td>YES</td><td>NO</td><td>Chen</td></tr>",
                            "<tr><td>45100</td><td>Startups &amp; Innovation</td><td>4</td><td>HAAS200</td><td>Haas School of Business</td><td>YES</td><td>NO</td><td>Jensen</td></tr>",
                            "</table>"
                        ]
                    }
                },
                {
                    "output_type": "execute_result",
                    "metadata": {},
                    "execution_count": 13,
                    "data": {
                        "application/vnd.dataresource+json": {
                            "schema": {
                                "fields": [
                                    {
                                        "name": "course_code"
                                    },
                                    {
                                        "name": "course_name"
                                    },
                                    {
                                        "name": "section"
                                    },
                                    {
                                        "name": "units"
                                    },
                                    {
                                        "name": "location"
                                    },
                                    {
                                        "name": "department"
                                    },
                                    {
                                        "name": "TA"
                                    }
                                ]
                            },
                            "data": [
                                {
                                    "course_code": "11101",
                                    "course_name": "Acting 101",
                                    "section": "1",
                                    "units": "0",
                                    "location": "BUSN250",
                                    "department": "Liberal Arts",
                                    "TA": "Claremont"
                                },
                                {
                                    "course_code": "11102",
                                    "course_name": "Acting 101",
                                    "section": "2",
                                    "units": "0",
                                    "location": "BUSN255",
                                    "department": "Liberal Arts",
                                    "TA": "McKormick"
                                },
                                {
                                    "course_code": "11111",
                                    "course_name": "Drama & Theater",
                                    "section": "1",
                                    "units": "0",
                                    "location": "THH140",
                                    "department": "Liberal Arts",
                                    "TA": "Annenberg"
                                },
                                {
                                    "course_code": "11112",
                                    "course_name": "Drama & Theater",
                                    "section": "2",
                                    "units": "0",
                                    "location": "THH150",
                                    "department": "Liberal Arts",
                                    "TA": "Annenberg"
                                },
                                {
                                    "course_code": "23401",
                                    "course_name": "Intro to Biology",
                                    "section": "1",
                                    "units": "0",
                                    "location": "BIOL200",
                                    "department": "Biological Science",
                                    "TA": "Rajkumar"
                                },
                                {
                                    "course_code": "23402",
                                    "course_name": "Intro to Biology",
                                    "section": "2",
                                    "units": "0",
                                    "location": "BIOL202",
                                    "department": "Biological Science",
                                    "TA": "Malhotra"
                                },
                                {
                                    "course_code": "23403",
                                    "course_name": "Intro to Biology",
                                    "section": "3",
                                    "units": "0",
                                    "location": "BIOL204",
                                    "department": "Biological Science",
                                    "TA": "Malhotra"
                                },
                                {
                                    "course_code": "23404",
                                    "course_name": "Intro to Biology",
                                    "section": "4",
                                    "units": "0",
                                    "location": "BIOL206",
                                    "department": "Biological Science",
                                    "TA": "Jain"
                                },
                                {
                                    "course_code": "23461",
                                    "course_name": "Intermediate Biology",
                                    "section": "1",
                                    "units": "0",
                                    "location": "BIOL210",
                                    "department": "Biological Science",
                                    "TA": "Manish"
                                },
                                {
                                    "course_code": "23462",
                                    "course_name": "Intermediate Biology",
                                    "section": "2",
                                    "units": "0",
                                    "location": "BIOL212",
                                    "department": "Biological Science",
                                    "TA": "Zou"
                                },
                                {
                                    "course_code": "23463",
                                    "course_name": "Intermediate Biology",
                                    "section": "3",
                                    "units": "0",
                                    "location": "BIOL214",
                                    "department": "Biological Science",
                                    "TA": "Xu"
                                },
                                {
                                    "course_code": "23464",
                                    "course_name": "Intermediate Biology",
                                    "section": "4",
                                    "units": "0",
                                    "location": "BIOL216",
                                    "department": "Biological Science",
                                    "TA": "Hsu"
                                },
                                {
                                    "course_code": "23501",
                                    "course_name": "Biochemistry I",
                                    "section": "1",
                                    "units": "0",
                                    "location": "ISEB101",
                                    "department": "Biological Science",
                                    "TA": "Khan"
                                },
                                {
                                    "course_code": "23502",
                                    "course_name": "Biochemistry I",
                                    "section": "2",
                                    "units": "0",
                                    "location": "ISEB101",
                                    "department": "Biological Science",
                                    "TA": "Hingorami"
                                },
                                {
                                    "course_code": "24761",
                                    "course_name": "PHYSICS 1A",
                                    "section": "1",
                                    "units": "0",
                                    "location": "LSH202",
                                    "department": "School of Engineering",
                                    "TA": "Lei"
                                },
                                {
                                    "course_code": "24762",
                                    "course_name": "PHYSICS 1A",
                                    "section": "2",
                                    "units": "0",
                                    "location": "LSH212",
                                    "department": "School of Engineering",
                                    "TA": "Zhang"
                                },
                                {
                                    "course_code": "24763",
                                    "course_name": "PHYSICS 1A",
                                    "section": "3",
                                    "units": "0",
                                    "location": "DBH120",
                                    "department": "School of Engineering",
                                    "TA": "Tang"
                                },
                                {
                                    "course_code": "24771",
                                    "course_name": "PHYSICS 1B",
                                    "section": "1",
                                    "units": "0",
                                    "location": "SLH550",
                                    "department": "School of Engineering",
                                    "TA": "Jim"
                                },
                                {
                                    "course_code": "24772",
                                    "course_name": "PHYSICS 1B",
                                    "section": "2",
                                    "units": "0",
                                    "location": "SLH560",
                                    "department": "School of Engineering",
                                    "TA": "Weng"
                                },
                                {
                                    "course_code": "24773",
                                    "course_name": "PHYSICS 1B",
                                    "section": "3",
                                    "units": "0",
                                    "location": "SLH570",
                                    "department": "School of Engineering",
                                    "TA": "Ibrahim"
                                },
                                {
                                    "course_code": "24781",
                                    "course_name": "PHYSICS 1C",
                                    "section": "1",
                                    "units": "0",
                                    "location": "MGH100",
                                    "department": "School of Engineering",
                                    "TA": "Ibrahim"
                                },
                                {
                                    "course_code": "24782",
                                    "course_name": "PHYSICS 1C",
                                    "section": "2",
                                    "units": "0",
                                    "location": "MGH110",
                                    "department": "School of Engineering",
                                    "TA": "Nawab"
                                },
                                {
                                    "course_code": "24783",
                                    "course_name": "PHYSICS 1C",
                                    "section": "3",
                                    "units": "0",
                                    "location": "MGH112",
                                    "department": "School of Engineering",
                                    "TA": "Hsu"
                                },
                                {
                                    "course_code": "34511",
                                    "course_name": "Database Management",
                                    "section": "1",
                                    "units": "0",
                                    "location": "BREN200",
                                    "department": "Information Sciences",
                                    "TA": "Nawab"
                                },
                                {
                                    "course_code": "34512",
                                    "course_name": "Database Management",
                                    "section": "2",
                                    "units": "0",
                                    "location": "BREN202",
                                    "department": "Information Sciences",
                                    "TA": "Khalil"
                                },
                                {
                                    "course_code": "34513",
                                    "course_name": "Database Management",
                                    "section": "3",
                                    "units": "0",
                                    "location": "BREN204",
                                    "department": "Information Sciences",
                                    "TA": "Hoffman"
                                },
                                {
                                    "course_code": "34514",
                                    "course_name": "Database Management",
                                    "section": "4",
                                    "units": "0",
                                    "location": "BREN206",
                                    "department": "Information Sciences",
                                    "TA": "Anand"
                                },
                                {
                                    "course_code": "34521",
                                    "course_name": "Azure & Cloud Computing",
                                    "section": "1",
                                    "units": "0",
                                    "location": "DBH101",
                                    "department": "Information Sciences",
                                    "TA": "Sheikh"
                                },
                                {
                                    "course_code": "34522",
                                    "course_name": "Azure & Cloud Computing",
                                    "section": "2",
                                    "units": "0",
                                    "location": "DBH102",
                                    "department": "Information Sciences",
                                    "TA": "Dmitrov"
                                },
                                {
                                    "course_code": "34523",
                                    "course_name": "Azure & Cloud Computing",
                                    "section": "3",
                                    "units": "0",
                                    "location": "DBH103",
                                    "department": "Information Sciences",
                                    "TA": "Lancaster"
                                },
                                {
                                    "course_code": "34531",
                                    "course_name": "Data Mining",
                                    "section": "1",
                                    "units": "0",
                                    "location": "SLH150",
                                    "department": "Information Sciences",
                                    "TA": "James"
                                },
                                {
                                    "course_code": "34532",
                                    "course_name": "Data Mining",
                                    "section": "2",
                                    "units": "0",
                                    "location": "LSH200",
                                    "department": "Information Sciences",
                                    "TA": "Qi"
                                },
                                {
                                    "course_code": "45011",
                                    "course_name": "Economics 1A",
                                    "section": "1",
                                    "units": "0",
                                    "location": "ELH200",
                                    "department": "Haas School of Business",
                                    "TA": "Jensen"
                                },
                                {
                                    "course_code": "45012",
                                    "course_name": "Economics 1A",
                                    "section": "2",
                                    "units": "0",
                                    "location": "ELH203",
                                    "department": "Haas School of Business",
                                    "TA": "Jensen"
                                },
                                {
                                    "course_code": "45013",
                                    "course_name": "Economics 1A",
                                    "section": "3",
                                    "units": "0",
                                    "location": "ELH200",
                                    "department": "Haas School of Business",
                                    "TA": "Kenny"
                                },
                                {
                                    "course_code": "45014",
                                    "course_name": "Economics 1A",
                                    "section": "4",
                                    "units": "0",
                                    "location": "ELH200",
                                    "department": "Haas School of Business",
                                    "TA": "Kenny"
                                },
                                {
                                    "course_code": "45021",
                                    "course_name": "Economics 1B",
                                    "section": "1",
                                    "units": "0",
                                    "location": "BUSIN500",
                                    "department": "Haas School of Business",
                                    "TA": "Lauren"
                                },
                                {
                                    "course_code": "45022",
                                    "course_name": "Economics 1B",
                                    "section": "2",
                                    "units": "0",
                                    "location": "BUSIN500",
                                    "department": "Haas School of Business",
                                    "TA": "Hoffman"
                                },
                                {
                                    "course_code": "45023",
                                    "course_name": "Economics 1B",
                                    "section": "3",
                                    "units": "0",
                                    "location": "BUSIN510",
                                    "department": "Haas School of Business",
                                    "TA": "Hoffman"
                                },
                                {
                                    "course_code": "45024",
                                    "course_name": "Economics 1B",
                                    "section": "4",
                                    "units": "0",
                                    "location": "BUSIN515",
                                    "department": "Haas School of Business",
                                    "TA": "Abelman"
                                },
                                {
                                    "course_code": "58731",
                                    "course_name": "Probability Statistics I",
                                    "section": "1",
                                    "units": "0",
                                    "location": "ICS170",
                                    "department": "Information Sciences",
                                    "TA": "Lee"
                                },
                                {
                                    "course_code": "58732",
                                    "course_name": "Probability Statistics I",
                                    "section": "2",
                                    "units": "0",
                                    "location": "ICS172",
                                    "department": "Information Sciences",
                                    "TA": "Quinn"
                                },
                                {
                                    "course_code": "58741",
                                    "course_name": "Probability Statistics II",
                                    "section": "1",
                                    "units": "0",
                                    "location": "BREN200",
                                    "department": "Information Sciences",
                                    "TA": "Johnson"
                                },
                                {
                                    "course_code": "58742",
                                    "course_name": "Probability Statistics II",
                                    "section": "2",
                                    "units": "0",
                                    "location": "BREN202",
                                    "department": "Information Sciences",
                                    "TA": "Johnson"
                                },
                                {
                                    "course_code": "58751",
                                    "course_name": "Probability Statistics III",
                                    "section": "1",
                                    "units": "0",
                                    "location": "ICS270",
                                    "department": "Information Sciences",
                                    "TA": "Martinez"
                                },
                                {
                                    "course_code": "58752",
                                    "course_name": "Probability Statistics III",
                                    "section": "2",
                                    "units": "0",
                                    "location": "ICS272",
                                    "department": "Information Sciences",
                                    "TA": "Lee"
                                },
                                {
                                    "course_code": "451001",
                                    "course_name": "Startups & Innovation",
                                    "section": "1",
                                    "units": "0",
                                    "location": "HAAS100",
                                    "department": "Haas School of Business",
                                    "TA": "Friedman"
                                },
                                {
                                    "course_code": "451002",
                                    "course_name": "Startups & Innovation",
                                    "section": "2",
                                    "units": "0",
                                    "location": "HAAS100",
                                    "department": "Haas School of Business",
                                    "TA": "Friedman"
                                },
                                {
                                    "course_code": "451003",
                                    "course_name": "Startups & Innovation",
                                    "section": "3",
                                    "units": "0",
                                    "location": "HAAS100",
                                    "department": "Haas School of Business",
                                    "TA": "Goldberg"
                                }
                            ]
                        },
                        "text/html": [
                            "<table>",
                            "<tr><th>course_code</th><th>course_name</th><th>section</th><th>units</th><th>location</th><th>department</th><th>TA</th></tr>",
                            "<tr><td>11101</td><td>Acting 101</td><td>1</td><td>0</td><td>BUSN250</td><td>Liberal Arts</td><td>Claremont</td></tr>",
                            "<tr><td>11102</td><td>Acting 101</td><td>2</td><td>0</td><td>BUSN255</td><td>Liberal Arts</td><td>McKormick</td></tr>",
                            "<tr><td>11111</td><td>Drama &amp; Theater</td><td>1</td><td>0</td><td>THH140</td><td>Liberal Arts</td><td>Annenberg</td></tr>",
                            "<tr><td>11112</td><td>Drama &amp; Theater</td><td>2</td><td>0</td><td>THH150</td><td>Liberal Arts</td><td>Annenberg</td></tr>",
                            "<tr><td>23401</td><td>Intro to Biology</td><td>1</td><td>0</td><td>BIOL200</td><td>Biological Science</td><td>Rajkumar</td></tr>",
                            "<tr><td>23402</td><td>Intro to Biology</td><td>2</td><td>0</td><td>BIOL202</td><td>Biological Science</td><td>Malhotra</td></tr>",
                            "<tr><td>23403</td><td>Intro to Biology</td><td>3</td><td>0</td><td>BIOL204</td><td>Biological Science</td><td>Malhotra</td></tr>",
                            "<tr><td>23404</td><td>Intro to Biology</td><td>4</td><td>0</td><td>BIOL206</td><td>Biological Science</td><td>Jain</td></tr>",
                            "<tr><td>23461</td><td>Intermediate Biology</td><td>1</td><td>0</td><td>BIOL210</td><td>Biological Science</td><td>Manish</td></tr>",
                            "<tr><td>23462</td><td>Intermediate Biology</td><td>2</td><td>0</td><td>BIOL212</td><td>Biological Science</td><td>Zou</td></tr>",
                            "<tr><td>23463</td><td>Intermediate Biology</td><td>3</td><td>0</td><td>BIOL214</td><td>Biological Science</td><td>Xu</td></tr>",
                            "<tr><td>23464</td><td>Intermediate Biology</td><td>4</td><td>0</td><td>BIOL216</td><td>Biological Science</td><td>Hsu</td></tr>",
                            "<tr><td>23501</td><td>Biochemistry I</td><td>1</td><td>0</td><td>ISEB101</td><td>Biological Science</td><td>Khan</td></tr>",
                            "<tr><td>23502</td><td>Biochemistry I</td><td>2</td><td>0</td><td>ISEB101</td><td>Biological Science</td><td>Hingorami</td></tr>",
                            "<tr><td>24761</td><td>PHYSICS 1A</td><td>1</td><td>0</td><td>LSH202</td><td>School of Engineering</td><td>Lei</td></tr>",
                            "<tr><td>24762</td><td>PHYSICS 1A</td><td>2</td><td>0</td><td>LSH212</td><td>School of Engineering</td><td>Zhang</td></tr>",
                            "<tr><td>24763</td><td>PHYSICS 1A</td><td>3</td><td>0</td><td>DBH120</td><td>School of Engineering</td><td>Tang</td></tr>",
                            "<tr><td>24771</td><td>PHYSICS 1B</td><td>1</td><td>0</td><td>SLH550</td><td>School of Engineering</td><td>Jim</td></tr>",
                            "<tr><td>24772</td><td>PHYSICS 1B</td><td>2</td><td>0</td><td>SLH560</td><td>School of Engineering</td><td>Weng</td></tr>",
                            "<tr><td>24773</td><td>PHYSICS 1B</td><td>3</td><td>0</td><td>SLH570</td><td>School of Engineering</td><td>Ibrahim</td></tr>",
                            "<tr><td>24781</td><td>PHYSICS 1C</td><td>1</td><td>0</td><td>MGH100</td><td>School of Engineering</td><td>Ibrahim</td></tr>",
                            "<tr><td>24782</td><td>PHYSICS 1C</td><td>2</td><td>0</td><td>MGH110</td><td>School of Engineering</td><td>Nawab</td></tr>",
                            "<tr><td>24783</td><td>PHYSICS 1C</td><td>3</td><td>0</td><td>MGH112</td><td>School of Engineering</td><td>Hsu</td></tr>",
                            "<tr><td>34511</td><td>Database Management</td><td>1</td><td>0</td><td>BREN200</td><td>Information Sciences</td><td>Nawab</td></tr>",
                            "<tr><td>34512</td><td>Database Management</td><td>2</td><td>0</td><td>BREN202</td><td>Information Sciences</td><td>Khalil</td></tr>",
                            "<tr><td>34513</td><td>Database Management</td><td>3</td><td>0</td><td>BREN204</td><td>Information Sciences</td><td>Hoffman</td></tr>",
                            "<tr><td>34514</td><td>Database Management</td><td>4</td><td>0</td><td>BREN206</td><td>Information Sciences</td><td>Anand</td></tr>",
                            "<tr><td>34521</td><td>Azure &amp; Cloud Computing</td><td>1</td><td>0</td><td>DBH101</td><td>Information Sciences</td><td>Sheikh</td></tr>",
                            "<tr><td>34522</td><td>Azure &amp; Cloud Computing</td><td>2</td><td>0</td><td>DBH102</td><td>Information Sciences</td><td>Dmitrov</td></tr>",
                            "<tr><td>34523</td><td>Azure &amp; Cloud Computing</td><td>3</td><td>0</td><td>DBH103</td><td>Information Sciences</td><td>Lancaster</td></tr>",
                            "<tr><td>34531</td><td>Data Mining</td><td>1</td><td>0</td><td>SLH150</td><td>Information Sciences</td><td>James</td></tr>",
                            "<tr><td>34532</td><td>Data Mining</td><td>2</td><td>0</td><td>LSH200</td><td>Information Sciences</td><td>Qi</td></tr>",
                            "<tr><td>45011</td><td>Economics 1A</td><td>1</td><td>0</td><td>ELH200</td><td>Haas School of Business</td><td>Jensen</td></tr>",
                            "<tr><td>45012</td><td>Economics 1A</td><td>2</td><td>0</td><td>ELH203</td><td>Haas School of Business</td><td>Jensen</td></tr>",
                            "<tr><td>45013</td><td>Economics 1A</td><td>3</td><td>0</td><td>ELH200</td><td>Haas School of Business</td><td>Kenny</td></tr>",
                            "<tr><td>45014</td><td>Economics 1A</td><td>4</td><td>0</td><td>ELH200</td><td>Haas School of Business</td><td>Kenny</td></tr>",
                            "<tr><td>45021</td><td>Economics 1B</td><td>1</td><td>0</td><td>BUSIN500</td><td>Haas School of Business</td><td>Lauren</td></tr>",
                            "<tr><td>45022</td><td>Economics 1B</td><td>2</td><td>0</td><td>BUSIN500</td><td>Haas School of Business</td><td>Hoffman</td></tr>",
                            "<tr><td>45023</td><td>Economics 1B</td><td>3</td><td>0</td><td>BUSIN510</td><td>Haas School of Business</td><td>Hoffman</td></tr>",
                            "<tr><td>45024</td><td>Economics 1B</td><td>4</td><td>0</td><td>BUSIN515</td><td>Haas School of Business</td><td>Abelman</td></tr>",
                            "<tr><td>58731</td><td>Probability Statistics I</td><td>1</td><td>0</td><td>ICS170</td><td>Information Sciences</td><td>Lee</td></tr>",
                            "<tr><td>58732</td><td>Probability Statistics I</td><td>2</td><td>0</td><td>ICS172</td><td>Information Sciences</td><td>Quinn</td></tr>",
                            "<tr><td>58741</td><td>Probability Statistics II</td><td>1</td><td>0</td><td>BREN200</td><td>Information Sciences</td><td>Johnson</td></tr>",
                            "<tr><td>58742</td><td>Probability Statistics II</td><td>2</td><td>0</td><td>BREN202</td><td>Information Sciences</td><td>Johnson</td></tr>",
                            "<tr><td>58751</td><td>Probability Statistics III</td><td>1</td><td>0</td><td>ICS270</td><td>Information Sciences</td><td>Martinez</td></tr>",
                            "<tr><td>58752</td><td>Probability Statistics III</td><td>2</td><td>0</td><td>ICS272</td><td>Information Sciences</td><td>Lee</td></tr>",
                            "<tr><td>451001</td><td>Startups &amp; Innovation</td><td>1</td><td>0</td><td>HAAS100</td><td>Haas School of Business</td><td>Friedman</td></tr>",
                            "<tr><td>451002</td><td>Startups &amp; Innovation</td><td>2</td><td>0</td><td>HAAS100</td><td>Haas School of Business</td><td>Friedman</td></tr>",
                            "<tr><td>451003</td><td>Startups &amp; Innovation</td><td>3</td><td>0</td><td>HAAS100</td><td>Haas School of Business</td><td>Goldberg</td></tr>",
                            "</table>"
                        ]
                    }
                },
                {
                    "output_type": "execute_result",
                    "metadata": {},
                    "execution_count": 13,
                    "data": {
                        "application/vnd.dataresource+json": {
                            "schema": {
                                "fields": [
                                    {
                                        "name": "course_code"
                                    },
                                    {
                                        "name": "course_name"
                                    },
                                    {
                                        "name": "section"
                                    },
                                    {
                                        "name": "units"
                                    },
                                    {
                                        "name": "location"
                                    },
                                    {
                                        "name": "department"
                                    },
                                    {
                                        "name": "TA"
                                    }
                                ]
                            },
                            "data": [
                                {
                                    "course_code": "234600",
                                    "course_name": "Intermediate Biology",
                                    "section": "1",
                                    "units": "2",
                                    "location": "ISEB200",
                                    "department": "Biological Science",
                                    "TA": "Quinn"
                                },
                                {
                                    "course_code": "234601",
                                    "course_name": "Intermediate Biology",
                                    "section": "2",
                                    "units": "2",
                                    "location": "ISEB200",
                                    "department": "Biological Science",
                                    "TA": "Jefferson"
                                },
                                {
                                    "course_code": "234602",
                                    "course_name": "Intermediate Biology",
                                    "section": "3",
                                    "units": "2",
                                    "location": "ISEB210",
                                    "department": "Biological Science",
                                    "TA": "Quinn"
                                },
                                {
                                    "course_code": "235000",
                                    "course_name": "Biochemistry I",
                                    "section": "1",
                                    "units": "2",
                                    "location": "BIOL270",
                                    "department": "Biological Science",
                                    "TA": "Jenn"
                                },
                                {
                                    "course_code": "235001",
                                    "course_name": "Biochemistry I",
                                    "section": "2",
                                    "units": "2",
                                    "location": "BIOL270",
                                    "department": "Biological Science",
                                    "TA": "Jenn"
                                },
                                {
                                    "course_code": "247600",
                                    "course_name": "PHYSICS 1A",
                                    "section": "1",
                                    "units": "2",
                                    "location": "ISEB500",
                                    "department": "School of Engineering",
                                    "TA": "Jensen"
                                },
                                {
                                    "course_code": "247601",
                                    "course_name": "PHYSICS 1A",
                                    "section": "2",
                                    "units": "2",
                                    "location": "ISEB510",
                                    "department": "School of Engineering",
                                    "TA": "Jensen"
                                },
                                {
                                    "course_code": "345200",
                                    "course_name": "Azure & Cloud Computing",
                                    "section": "1",
                                    "units": "0",
                                    "location": "SH170",
                                    "department": "Information Sciences",
                                    "TA": "Hassan"
                                },
                                {
                                    "course_code": "345201",
                                    "course_name": "Azure & Cloud Computing",
                                    "section": "2",
                                    "units": "0",
                                    "location": "SH177",
                                    "department": "Information Sciences",
                                    "TA": "Hassan"
                                },
                                {
                                    "course_code": "345202",
                                    "course_name": "Azure & Cloud Computing",
                                    "section": "3",
                                    "units": "0",
                                    "location": "SH177",
                                    "department": "Information Sciences",
                                    "TA": "Kane"
                                },
                                {
                                    "course_code": "2477010",
                                    "course_name": "PHYSICS 1B",
                                    "section": "1",
                                    "units": "2",
                                    "location": "ISEB515",
                                    "department": "School of Engineering",
                                    "TA": "Rao"
                                },
                                {
                                    "course_code": "2477011",
                                    "course_name": "PHYSICS 1B",
                                    "section": "2",
                                    "units": "2",
                                    "location": "ISEB520",
                                    "department": "School of Engineering",
                                    "TA": "Rao"
                                },
                                {
                                    "course_code": "2478010",
                                    "course_name": "PHYSICS 1C",
                                    "section": "1",
                                    "units": "2",
                                    "location": "MGH2000",
                                    "department": "School of Engineering",
                                    "TA": "Kumar"
                                },
                                {
                                    "course_code": "2478011",
                                    "course_name": "PHYSICS 1C",
                                    "section": "2",
                                    "units": "2",
                                    "location": "MGH2001",
                                    "department": "School of Engineering",
                                    "TA": "Kumar"
                                }
                            ]
                        },
                        "text/html": [
                            "<table>",
                            "<tr><th>course_code</th><th>course_name</th><th>section</th><th>units</th><th>location</th><th>department</th><th>TA</th></tr>",
                            "<tr><td>234600</td><td>Intermediate Biology</td><td>1</td><td>2</td><td>ISEB200</td><td>Biological Science</td><td>Quinn</td></tr>",
                            "<tr><td>234601</td><td>Intermediate Biology</td><td>2</td><td>2</td><td>ISEB200</td><td>Biological Science</td><td>Jefferson</td></tr>",
                            "<tr><td>234602</td><td>Intermediate Biology</td><td>3</td><td>2</td><td>ISEB210</td><td>Biological Science</td><td>Quinn</td></tr>",
                            "<tr><td>235000</td><td>Biochemistry I</td><td>1</td><td>2</td><td>BIOL270</td><td>Biological Science</td><td>Jenn</td></tr>",
                            "<tr><td>235001</td><td>Biochemistry I</td><td>2</td><td>2</td><td>BIOL270</td><td>Biological Science</td><td>Jenn</td></tr>",
                            "<tr><td>247600</td><td>PHYSICS 1A</td><td>1</td><td>2</td><td>ISEB500</td><td>School of Engineering</td><td>Jensen</td></tr>",
                            "<tr><td>247601</td><td>PHYSICS 1A</td><td>2</td><td>2</td><td>ISEB510</td><td>School of Engineering</td><td>Jensen</td></tr>",
                            "<tr><td>345200</td><td>Azure &amp; Cloud Computing</td><td>1</td><td>0</td><td>SH170</td><td>Information Sciences</td><td>Hassan</td></tr>",
                            "<tr><td>345201</td><td>Azure &amp; Cloud Computing</td><td>2</td><td>0</td><td>SH177</td><td>Information Sciences</td><td>Hassan</td></tr>",
                            "<tr><td>345202</td><td>Azure &amp; Cloud Computing</td><td>3</td><td>0</td><td>SH177</td><td>Information Sciences</td><td>Kane</td></tr>",
                            "<tr><td>2477010</td><td>PHYSICS 1B</td><td>1</td><td>2</td><td>ISEB515</td><td>School of Engineering</td><td>Rao</td></tr>",
                            "<tr><td>2477011</td><td>PHYSICS 1B</td><td>2</td><td>2</td><td>ISEB520</td><td>School of Engineering</td><td>Rao</td></tr>",
                            "<tr><td>2478010</td><td>PHYSICS 1C</td><td>1</td><td>2</td><td>MGH2000</td><td>School of Engineering</td><td>Kumar</td></tr>",
                            "<tr><td>2478011</td><td>PHYSICS 1C</td><td>2</td><td>2</td><td>MGH2001</td><td>School of Engineering</td><td>Kumar</td></tr>",
                            "</table>"
                        ]
                    }
                }
            ],
            "execution_count": 13
        },
        {
            "cell_type": "code",
            "source": [
                "select c.course_code, d.course_code, c.course_name, c.location, c.professor, c.units from course AS c\r\n",
                "INNER JOIN  discussion as d\r\n",
                "(INNER JOIN lab as l\r\n",
                "ON c.course_name = l.course_name)\r\n",
                "ON c.course_name = d.course_name"
            ],
            "metadata": {
                "language": "sql",
                "azdata_cell_guid": "eb34c3b2-5c48-4224-8d21-75deba4c1625"
            },
            "outputs": [
                {
                    "output_type": "error",
                    "evalue": "Msg 156, Level 15, State 1, Line 3\r\nIncorrect syntax near the keyword 'INNER'.",
                    "ename": "",
                    "traceback": []
                },
                {
                    "output_type": "display_data",
                    "data": {
                        "text/html": "Total execution time: 00:00:00.002"
                    },
                    "metadata": {}
                }
            ],
            "execution_count": 24
        }
    ]
}